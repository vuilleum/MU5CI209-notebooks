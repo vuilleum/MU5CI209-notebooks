{
 "cells": [
  {
   "cell_type": "markdown",
   "metadata": {},
   "source": [
    "# Calcul de $\\pi$ par une méthode Monte-Carlo"
   ]
  },
  {
   "cell_type": "markdown",
   "metadata": {},
   "source": [
    "Dans ce notebook, nous allon calculer $\\pi$ en déterminant la surface d'un disque de rayon 1 à l'intérieur d'un carré de côté 2. \n",
    "\n",
    "Ce carré délimite la région $-1<x<1$ et $-1<y<1$. On va tirer des coordonnées $(x,y)$ avec une répartition uniforme dans le carré et compter le nombre de points qui sont à l'intérieur du disque. Le rapport de ce nombre de points dans le disque sur le nombre total de tirages sera alors égal à $\\frac{\\pi}{4}$ en moyenne."
   ]
  },
  {
   "cell_type": "code",
   "execution_count": 1,
   "metadata": {},
   "outputs": [],
   "source": [
    "import numpy as np\n",
    "import matplotlib.pyplot as plt"
   ]
  },
  {
   "cell_type": "markdown",
   "metadata": {},
   "source": [
    "Définition d'un fonction\n",
    "\n",
    "    (x,y,accepte) = step(x0,y0,pas)\n",
    "    \n",
    "qui effectue un pas aléatoire de taille maximale $\\texttt{pas}$. Si les nouvelles coordonnées sont dans le carré, elles sont renvoyées et $\\texttt{accepte}$ est mis à 1. Sinon, le pas est rejeté et les anciennes coordonnées sont renvoyées avec $\\texttt{accepte}$ mis à 0."
   ]
  },
  {
   "cell_type": "code",
   "execution_count": 32,
   "metadata": {},
   "outputs": [],
   "source": [
    "def step(x0,y0,pas=0.5):\n",
    "    dx=np.random.rand()*pas*2-pas\n",
    "    dy=np.random.rand()*pas*2-pas\n",
    "    \n",
    "    x=x0+dx\n",
    "    y=y0+dy\n",
    "    \n",
    "    if (x>=-1) and (x<=1) and (y>=-1) and (y<=1):\n",
    "        return (x,y,1)\n",
    "    else:\n",
    "        return (x0,y0,0)\n"
   ]
  },
  {
   "cell_type": "markdown",
   "metadata": {},
   "source": [
    "On définit un nombre de tirages et une condition initiale et on effectue une boucle sur les tirages. On garde un compteur du nombre de pas acceptés et du nombre de points dans le disque. "
   ]
  },
  {
   "cell_type": "code",
   "execution_count": 72,
   "metadata": {},
   "outputs": [],
   "source": [
    "Ntirages=10000\n",
    "x0,y0=0.0,0.0\n",
    "pas=0.5"
   ]
  },
  {
   "cell_type": "code",
   "execution_count": 68,
   "metadata": {},
   "outputs": [],
   "source": [
    "NdansDisque=0\n",
    "Nacceptes=0\n",
    "\n",
    "x,y=x0,y0\n",
    "\n",
    "for i in range(Ntirages):\n",
    "    x,y,accepte=step(x,y,pas)\n",
    "    Nacceptes=Nacceptes+accepte\n",
    "    if ((x**2+y**2)<1) :\n",
    "        NdansDisque += 1"
   ]
  },
  {
   "cell_type": "code",
   "execution_count": 69,
   "metadata": {},
   "outputs": [],
   "source": [
    "MonPi=NdansDisque/Ntirages*4\n",
    "TauxAcceptation=Nacceptes/Ntirages"
   ]
  },
  {
   "cell_type": "code",
   "execution_count": 70,
   "metadata": {},
   "outputs": [
    {
     "name": "stdout",
     "output_type": "stream",
     "text": [
      "Avec Ntirages = 1000000 et un pas de 2.0\n",
      "Nous obtenons un taux d'acceptation de 0.248566 et\n",
      "une estimation de Pi égale à 3.145036\n"
     ]
    }
   ],
   "source": [
    "print(\"Avec Ntirages = {} et un pas de {}\".format(Ntirages,pas))\n",
    "print(\"Nous obtenons un taux d'acceptation de {} et\".format(TauxAcceptation))\n",
    "print(\"une estimation de Pi égale à {}\".format(MonPi))"
   ]
  },
  {
   "cell_type": "markdown",
   "metadata": {},
   "source": [
    "## A faire\n",
    "\n",
    "\n",
    "* Commencer par jouer avec nombre de tirages pour voir comment l'estimation se rapproche de $\\pi$. \n",
    "\n",
    "* Modifier pas pour que le taux d'acceptation soit proche de 0.25. Comment est l'estimation de $\\pi$?\n",
    "\n",
    "* Ecrire un code pour visualiser (pour Ntirages plus petit que 1000) la position des points visités dans le carré."
   ]
  },
  {
   "cell_type": "code",
   "execution_count": null,
   "metadata": {},
   "outputs": [],
   "source": []
  }
 ],
 "metadata": {
  "kernelspec": {
   "display_name": "Python 3",
   "language": "python",
   "name": "python3"
  },
  "language_info": {
   "codemirror_mode": {
    "name": "ipython",
    "version": 3
   },
   "file_extension": ".py",
   "mimetype": "text/x-python",
   "name": "python",
   "nbconvert_exporter": "python",
   "pygments_lexer": "ipython3",
   "version": "3.8.1"
  }
 },
 "nbformat": 4,
 "nbformat_minor": 4
}
