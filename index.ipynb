{
 "cells": [
  {
   "cell_type": "markdown",
   "metadata": {},
   "source": [
    "# Notebooks pour le cours MU5Ci209 \"Modélisation multi-échelle\" du master de chimie de Paris centre\n",
    "\n",
    "Ceci est une collection de notebooks IPython pour illustrer le cours \"Modélisation multi-échelle\". La liste des notebooks disponibles est:\n",
    "\n",
    "* [Méthode Monte-Carlo: calcul de $\\pi$](notebooks/Pi.ipynb)\n"
   ]
  },
  {
   "cell_type": "code",
   "execution_count": null,
   "metadata": {},
   "outputs": [],
   "source": []
  }
 ],
 "metadata": {
  "kernelspec": {
   "display_name": "Python 3",
   "language": "python",
   "name": "python3"
  },
  "language_info": {
   "codemirror_mode": {
    "name": "ipython",
    "version": 3
   },
   "file_extension": ".py",
   "mimetype": "text/x-python",
   "name": "python",
   "nbconvert_exporter": "python",
   "pygments_lexer": "ipython3",
   "version": "3.8.1"
  }
 },
 "nbformat": 4,
 "nbformat_minor": 4
}
